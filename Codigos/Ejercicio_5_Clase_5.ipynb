{
 "cells": [
  {
   "cell_type": "code",
   "execution_count": 2,
   "id": "afe5ffbe",
   "metadata": {},
   "outputs": [],
   "source": [
    "import numpy as np"
   ]
  },
  {
   "cell_type": "markdown",
   "id": "8a87e5f8",
   "metadata": {},
   "source": [
    "Complemento, ejercicio 5, clase 5"
   ]
  },
  {
   "cell_type": "code",
   "execution_count": 1,
   "id": "9bd80290",
   "metadata": {},
   "outputs": [
    {
     "name": "stdout",
     "output_type": "stream",
     "text": [
      "Matriz de Gram (producto interno entre Pauli):\n",
      "[[2. 0. 0. 0.]\n",
      " [0. 2. 0. 0.]\n",
      " [0. 0. 2. 0.]\n",
      " [0. 0. 0. 2.]]\n"
     ]
    }
   ],
   "source": [
    "#Comprobación que las matrices de Pauli son ortogonales\n",
    "\n",
    "#Primero definamos las matrices:\n",
    "import numpy as np\n",
    "\n",
    "# Definición de matrices de Pauli\n",
    "sigma0 = np.array([[1, 0], [0, 1]], dtype=complex)\n",
    "sigma1 = np.array([[0, 1], [1, 0]], dtype=complex)\n",
    "sigma2 = np.array([[0, -1j], [1j, 0]], dtype=complex)\n",
    "sigma3 = np.array([[1, 0], [0, -1]], dtype=complex)\n",
    "\n",
    "paulis = [sigma0, sigma1, sigma2, sigma3]\n",
    "names  = [\"σ0\", \"σ1\", \"σ2\", \"σ3\"]\n",
    "\n",
    "# Producto interno: <A,B> = Tr(A† B)\n",
    "def inner_product(A, B):\n",
    "    return np.trace(A.conj().T @ B)\n",
    "\n",
    "# Construir matriz de Gram\n",
    "G = np.zeros((4,4), dtype=complex)\n",
    "for i in range(4):\n",
    "    for j in range(4):\n",
    "        G[i,j] = inner_product(paulis[i], paulis[j])\n",
    "\n",
    "print(\"Matriz de Gram (producto interno entre Pauli):\")\n",
    "print(np.real_if_close(G))   # Elimina restos numéricos tipo 1e-16\n",
    "\n",
    "\n"
   ]
  }
 ],
 "metadata": {
  "kernelspec": {
   "display_name": "Python 3",
   "language": "python",
   "name": "python3"
  },
  "language_info": {
   "codemirror_mode": {
    "name": "ipython",
    "version": 3
   },
   "file_extension": ".py",
   "mimetype": "text/x-python",
   "name": "python",
   "nbconvert_exporter": "python",
   "pygments_lexer": "ipython3",
   "version": "3.13.6"
  }
 },
 "nbformat": 4,
 "nbformat_minor": 5
}
