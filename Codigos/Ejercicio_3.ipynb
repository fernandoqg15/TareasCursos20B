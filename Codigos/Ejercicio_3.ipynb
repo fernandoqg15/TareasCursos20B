{
  "nbformat": 4,
  "nbformat_minor": 0,
  "metadata": {
    "colab": {
      "provenance": []
    },
    "kernelspec": {
      "name": "python3",
      "display_name": "Python 3"
    },
    "language_info": {
      "name": "python"
    }
  },
  "cells": [
    {
      "cell_type": "code",
      "source": [
        "from sympy import symbols, Matrix, solve, simplify\n",
        "\n",
        "# Variables\n",
        "ax, ay, az = symbols('a_x a_y a_z')\n",
        "bx, by, bz = symbols('b_x b_y b_z')\n",
        "cx, cy, cz = symbols('c_x c_y c_z')\n",
        "t, s = symbols('t s')\n",
        "\n",
        "# Puntos del triángulo\n",
        "A = Matrix([ax, ay, az])\n",
        "B = Matrix([bx, by, bz])\n",
        "C = Matrix([cx, cy, cz])\n",
        "\n",
        "# Puntos medios\n",
        "Mbc = (B + C) / 2\n",
        "Mac = (A + C) / 2\n",
        "\n",
        "# Ecuaciones de las medianas\n",
        "L1 = A + t * (Mbc - A)\n",
        "L2 = B + s * (Mac - B)\n",
        "\n",
        "# Resolver para t y s\n",
        "ecuaciones = [L1[i] - L2[i] for i in range(3)]\n",
        "solucion = solve(ecuaciones, (t, s))\n",
        "\n",
        "# Calcular centroide\n",
        "G = simplify(L1.subs(solucion))\n",
        "print(\"Centroide:\", G)\n"
      ],
      "metadata": {
        "colab": {
          "base_uri": "https://localhost:8080/"
        },
        "id": "KrC1F4dkbVnW",
        "outputId": "6d36a2d5-61f5-46cf-f81b-2c007abe410b"
      },
      "execution_count": 6,
      "outputs": [
        {
          "output_type": "stream",
          "name": "stdout",
          "text": [
            "Centroide: Matrix([[a_x/3 + b_x/3 + c_x/3], [a_y/3 + b_y/3 + c_y/3], [a_z/3 + b_z/3 + c_z/3]])\n"
          ]
        }
      ]
    }
  ]
}