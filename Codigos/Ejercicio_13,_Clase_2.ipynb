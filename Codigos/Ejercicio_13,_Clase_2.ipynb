{
  "nbformat": 4,
  "nbformat_minor": 0,
  "metadata": {
    "colab": {
      "provenance": []
    },
    "kernelspec": {
      "name": "python3",
      "display_name": "Python 3"
    },
    "language_info": {
      "name": "python"
    }
  },
  "cells": [
    {
      "cell_type": "code",
      "execution_count": 2,
      "metadata": {
        "id": "UuvzZ4n8TVQ7"
      },
      "outputs": [],
      "source": [
        "import sympy\n",
        "from sympy import *\n",
        "from sympy.vector import *\n",
        "\n",
        "R = CoordSys3D(\"R\")\n",
        "x, y = symbols (\"x y\")\n",
        "t = symbols (\"t\")\n",
        "F = (-y/(x**2+y**2)) *R.i + (x/(x**2+y**2)) *R.j"
      ]
    },
    {
      "cell_type": "code",
      "source": [
        "#Por comodidad, se trabajará en polares y una nueva variable \"t\"\n",
        "\n",
        "x_prima = cos(t)\n",
        "y_prima = sin(t)\n",
        "r = x_prima*R.i + y_prima*R.j\n",
        "dr = r.diff(t)\n",
        "F_primada = simplify(F.subs({x: x_prima, y:y_prima}))\n",
        "integrando = simplify(F_primada.dot(dr))"
      ],
      "metadata": {
        "id": "k5t-UgehWAjt"
      },
      "execution_count": 5,
      "outputs": []
    },
    {
      "cell_type": "code",
      "source": [
        "#Cálculo\n",
        "\n",
        "  #ejercicio (a)\n",
        "\n",
        "trabajo_a = simplify(integrate(integrando, (t,0,pi)))\n",
        "print(f\"El trabajo realizado por la fuerza desde 0 a π en sentido contrario a la agujas del reloj es: {trabajo_a}\")\n",
        "\n",
        "  #ejercicio (b)\n",
        "\n",
        "trabajo_b = simplify(integrate(integrando, (t,0,-pi)))\n",
        "print(f\"El trabajo realizado por la fuerza desde 0 a −π en sentido de las agujas del reloj: {trabajo_b}\")"
      ],
      "metadata": {
        "colab": {
          "base_uri": "https://localhost:8080/"
        },
        "id": "GxLb657rW_NV",
        "outputId": "589049ed-0c3a-443a-8e78-42fc3c72a056"
      },
      "execution_count": 8,
      "outputs": [
        {
          "output_type": "stream",
          "name": "stdout",
          "text": [
            "El trabajo realizado por la fuerza desde 0 a π en sentido contrario a la agujas del reloj es: pi\n",
            "El trabajo realizado por la fuerza desde 0 a −π en sentido de las agujas del reloj: -pi\n"
          ]
        }
      ]
    }
  ]
}