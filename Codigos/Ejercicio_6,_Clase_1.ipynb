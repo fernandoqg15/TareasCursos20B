{
  "nbformat": 4,
  "nbformat_minor": 0,
  "metadata": {
    "colab": {
      "provenance": []
    },
    "kernelspec": {
      "name": "python3",
      "display_name": "Python 3"
    },
    "language_info": {
      "name": "python"
    }
  },
  "cells": [
    {
      "cell_type": "markdown",
      "source": [
        "## **EJERCICIO 6, sección 1.2.7**\n"
      ],
      "metadata": {
        "id": "cAU0QiNt_ITu"
      }
    },
    {
      "cell_type": "code",
      "execution_count": null,
      "metadata": {
        "id": "Wd5EK8Wh0WJb"
      },
      "outputs": [],
      "source": [
        "import sympy\n",
        "from sympy import *"
      ]
    },
    {
      "cell_type": "code",
      "source": [
        "a = Matrix([1,2,3])\n",
        "b = Matrix([4,5,6])\n",
        "c = Matrix([3,2,1])\n",
        "d = Matrix([6,5,4])\n",
        "\n",
        "e_1 = Matrix([1,0,0])\n",
        "e_2 = Matrix([0,1,0])\n",
        "e_3 = Matrix([0,0,1])"
      ],
      "metadata": {
        "id": "ZXZNtuTi0dMJ"
      },
      "execution_count": null,
      "outputs": []
    },
    {
      "cell_type": "code",
      "source": [
        "x_1 = a + b + c + d\n",
        "x_2 = a + b - c - d\n",
        "x_3 = a - b + c - d\n",
        "x_4 = - a + b - c + d\n",
        "\n",
        "sumas = [x_1, x_2, x_3, x_4]\n",
        "\n",
        "for i, elemento in enumerate (sumas, start=1):\n",
        "    print(f\"suma {i}: {elemento}\")"
      ],
      "metadata": {
        "colab": {
          "base_uri": "https://localhost:8080/"
        },
        "id": "bv--HGHU32PD",
        "outputId": "3b3e3729-fdcf-40b7-f807-0c36c822f0b4"
      },
      "execution_count": null,
      "outputs": [
        {
          "output_type": "stream",
          "name": "stdout",
          "text": [
            "suma 1: Matrix([[14], [14], [14]])\n",
            "suma 2: Matrix([[-4], [0], [4]])\n",
            "suma 3: Matrix([[-6], [-6], [-6]])\n",
            "suma 4: Matrix([[6], [6], [6]])\n"
          ]
        }
      ]
    },
    {
      "cell_type": "markdown",
      "source": [
        "b) El ángulo entre los vectores a, b, c, d y los vectores base e_1, e_2, e_3."
      ],
      "metadata": {
        "id": "r5oLLhx2BIUb"
      }
    },
    {
      "cell_type": "code",
      "source": [
        "bases = {\"e_1\": e_1, \"e_2\": e_2, \"e_3\": e_3}\n",
        "vectores = {\"a\": a, \"b\": b, \"c\": c, \"d\": d}\n",
        "\n",
        "for vector, v in vectores.items():\n",
        "  mv= v.norm()\n",
        "\n",
        "  print (f\"Angulos vector {vector}:\")\n",
        "  for v_base, e in bases.items():\n",
        "    theta = acos(v.dot(e)/mv)\n",
        "    grados = theta*180/pi\n",
        "    print(f\"El ángulo con {v_base} {N(grados,3)}°\")"
      ],
      "metadata": {
        "colab": {
          "base_uri": "https://localhost:8080/"
        },
        "id": "NSQbtQhOGrna",
        "outputId": "3175f7c0-279a-4c06-b326-342086510f7a"
      },
      "execution_count": null,
      "outputs": [
        {
          "output_type": "stream",
          "name": "stdout",
          "text": [
            "Angulos para el vector a:\n",
            "El ángulo con el vector base e_1 es de 74.5°\n",
            "El ángulo con el vector base e_2 es de 57.7°\n",
            "El ángulo con el vector base e_3 es de 36.7°\n",
            "Angulos para el vector b:\n",
            "El ángulo con el vector base e_1 es de 62.9°\n",
            "El ángulo con el vector base e_2 es de 55.3°\n",
            "El ángulo con el vector base e_3 es de 46.9°\n",
            "Angulos para el vector c:\n",
            "El ángulo con el vector base e_1 es de 36.7°\n",
            "El ángulo con el vector base e_2 es de 57.7°\n",
            "El ángulo con el vector base e_3 es de 74.5°\n",
            "Angulos para el vector d:\n",
            "El ángulo con el vector base e_1 es de 46.9°\n",
            "El ángulo con el vector base e_2 es de 55.3°\n",
            "El ángulo con el vector base e_3 es de 62.9°\n"
          ]
        }
      ]
    },
    {
      "cell_type": "markdown",
      "source": [
        "c) La magnitud de los vectores a, b, c, d."
      ],
      "metadata": {
        "id": "uYxxmTGKBbmL"
      }
    },
    {
      "cell_type": "code",
      "source": [
        "m_1 = a.norm()\n",
        "m_2 = b.norm()\n",
        "m_3 = c.norm()\n",
        "m_4 = d.norm()\n",
        "\n",
        "magnitudes= [m_1, m_2, m_3, m_4]\n",
        "\n",
        "for i, elemento in enumerate (magnitudes, start=1):\n",
        "    print(f\"Magnitud del vector {i}: {elemento}\")"
      ],
      "metadata": {
        "colab": {
          "base_uri": "https://localhost:8080/"
        },
        "id": "EJcgyXDRJUXj",
        "outputId": "3c7b9495-9114-4cbd-e8d6-fd70affbbe5b"
      },
      "execution_count": null,
      "outputs": [
        {
          "output_type": "stream",
          "name": "stdout",
          "text": [
            "Magnitud del vector 1: sqrt(14)\n",
            "Magnitud del vector 2: sqrt(77)\n",
            "Magnitud del vector 3: sqrt(14)\n",
            "Magnitud del vector 4: sqrt(77)\n"
          ]
        }
      ]
    },
    {
      "cell_type": "markdown",
      "source": [
        "d) El ángulo entre a y b y entre c y d."
      ],
      "metadata": {
        "id": "rG_-dS35BSu7"
      }
    },
    {
      "cell_type": "code",
      "source": [
        "angulo_ab = acos(a.dot(b)/(a.norm()*b.norm()))*180/pi\n",
        "angulo_cd = acos(c.dot(d)/(c.norm()*d.norm()))*180/pi\n",
        "print(f\"Angulo entre a y b: {N(angulo_ab, 4)}°\")\n",
        "print(f\"Angulo entre c y d: {N(angulo_cd, 4)}°\")"
      ],
      "metadata": {
        "colab": {
          "base_uri": "https://localhost:8080/"
        },
        "id": "3_ueuSwFWbWb",
        "outputId": "bf140d99-5228-48af-ab44-5c8124f91dd0"
      },
      "execution_count": null,
      "outputs": [
        {
          "output_type": "stream",
          "name": "stdout",
          "text": [
            "Angulo entre a y b: 12.93°\n",
            "Angulo entre c y d: 12.93°\n"
          ]
        }
      ]
    },
    {
      "cell_type": "markdown",
      "source": [
        "e) La proyección de a sobre b."
      ],
      "metadata": {
        "id": "4t313GPQBkYT"
      }
    },
    {
      "cell_type": "code",
      "source": [
        "proyec_ab= a.dot(b)/b.dot(b)*b\n",
        "print(f\"Proyección de a sobre b: {proyec_ab}\")"
      ],
      "metadata": {
        "colab": {
          "base_uri": "https://localhost:8080/"
        },
        "id": "awV4nYUcafrd",
        "outputId": "16f04b8e-aa2d-4b16-d1ae-cdb4f71ceec6"
      },
      "execution_count": null,
      "outputs": [
        {
          "output_type": "stream",
          "name": "stdout",
          "text": [
            "Proyección de a sobre b: Matrix([[128/77], [160/77], [192/77]])\n"
          ]
        }
      ]
    },
    {
      "cell_type": "markdown",
      "source": [
        "(f) Si los vectores a, b, c, d coplanares"
      ],
      "metadata": {
        "id": "FciuIvOXBvn9"
      }
    },
    {
      "cell_type": "code",
      "source": [
        "abc = a.dot(b.cross(c))\n",
        "abd = a.dot(b.cross(d))\n",
        "acd = a.dot(c.cross(d))\n",
        "bcd = b.dot(c.cross(d))\n",
        "\n",
        "verificar = [abc, abd, acd, bcd]\n",
        "\n",
        "for i, verif in enumerate (verificar):\n",
        "    Producto_mixto = [\"abc\", \"abd\", \"acd\", \"bcd\"][i]\n",
        "    print(f\"El producto mixto entre {Producto_mixto} es {verif}\")\n",
        "    if verif == 0:\n",
        "        print(f\"coplanares\")"
      ],
      "metadata": {
        "colab": {
          "base_uri": "https://localhost:8080/"
        },
        "id": "SaQkT6U68rrp",
        "outputId": "0ae3aeff-aed0-4eb6-f9e0-137c1b2bb2f5"
      },
      "execution_count": null,
      "outputs": [
        {
          "output_type": "stream",
          "name": "stdout",
          "text": [
            "El producto mixto entre abc es 0\n",
            "Los vectores son coplanares\n",
            "El producto mixto entre abd es 0\n",
            "Los vectores son coplanares\n",
            "El producto mixto entre acd es 0\n",
            "Los vectores son coplanares\n",
            "El producto mixto entre bcd es 0\n",
            "Los vectores son coplanares\n"
          ]
        }
      ]
    },
    {
      "cell_type": "markdown",
      "source": [
        "g) Encuentre (a + b) · (c + d)."
      ],
      "metadata": {
        "id": "tmtOsettBzuR"
      }
    },
    {
      "cell_type": "code",
      "source": [
        "s1=(a+b).dot(c+d)\n",
        "print(f\"operación (a+b) * (c+d): {s1}\")"
      ],
      "metadata": {
        "colab": {
          "base_uri": "https://localhost:8080/"
        },
        "id": "65dXsaJV12_2",
        "outputId": "f4c83b43-c3eb-44f2-82d0-9b82ef6b2c54"
      },
      "execution_count": null,
      "outputs": [
        {
          "output_type": "stream",
          "name": "stdout",
          "text": [
            "operación (a+b) * (c+d): 139\n"
          ]
        }
      ]
    },
    {
      "cell_type": "markdown",
      "source": [
        "h) Los productos a × b, b × c, c × d y los ángulos que estos forman con d."
      ],
      "metadata": {
        "id": "LXTPPX7_B4W5"
      }
    },
    {
      "cell_type": "code",
      "source": [
        "axb= a.cross (b)\n",
        "bxc= b.cross (c)\n",
        "cxd= c.cross (d)\n",
        "Resultados = [axb, bxc, cxd]\n",
        "\n",
        "for i, element in enumerate (Resultados):\n",
        "    Productos_cruz = [\"axb\", \"bxc\", \"cxd\"][i]\n",
        "    print(f\"El Producto cruz ({Productos_cruz}) es {element}\")\n",
        "\n",
        "angulo_axb_d= acos(axb.dot(d)/(axb.norm()*d.norm()))*180/pi\n",
        "angulo_bxc_d= acos(bxc.dot(d)/(bxc.norm()*d.norm()))*180/pi\n",
        "angulo_cxd_d= acos(cxd.dot(d)/(cxd.norm()*d.norm()))*180/pi\n",
        "print(f\"El ángulo que forma  axb y d : {N(angulo_axb_d, 4)}°\")\n",
        "print(f\"El ángulo que forma  bxc y d : {N(angulo_bxc_d, 4)}°\")\n",
        "print(f\"El ángulo que forma  cxd y d : {N(angulo_cxd_d, 4)}°\")"
      ],
      "metadata": {
        "colab": {
          "base_uri": "https://localhost:8080/"
        },
        "id": "nOM0L3f76J9l",
        "outputId": "87fe836b-dfcf-4b9f-b09b-de00279f7e29"
      },
      "execution_count": null,
      "outputs": [
        {
          "output_type": "stream",
          "name": "stdout",
          "text": [
            "El Producto cruz (axb) es Matrix([[-3], [6], [-3]])\n",
            "El Producto cruz (bxc) es Matrix([[-7], [14], [-7]])\n",
            "El Producto cruz (cxd) es Matrix([[3], [-6], [3]])\n",
            "El ángulo que forma  axb y d : 90.00°\n",
            "El ángulo que forma  bxc y d : 90.00°\n",
            "El ángulo que forma  cxd y d : 90.00°\n"
          ]
        }
      ]
    },
    {
      "cell_type": "markdown",
      "source": [
        "(i) c · (a × b)."
      ],
      "metadata": {
        "id": "TNs_xiT9CBbC"
      }
    },
    {
      "cell_type": "code",
      "source": [
        "cruz_punto = c.dot(b.cross(d))\n",
        "print(f\"El producto punto entre c y (b x d) es {cruz_punto}\")"
      ],
      "metadata": {
        "colab": {
          "base_uri": "https://localhost:8080/"
        },
        "id": "VXeK5DDx8Zgb",
        "outputId": "70a7ac6e-a9c6-4ab6-a935-d64cb2541ba0"
      },
      "execution_count": null,
      "outputs": [
        {
          "output_type": "stream",
          "name": "stdout",
          "text": [
            "El producto punto entre c y (b x d) es 0\n"
          ]
        }
      ]
    }
  ]
}