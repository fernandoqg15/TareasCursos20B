{
 "cells": [
  {
   "cell_type": "markdown",
   "id": "ac05ac0f",
   "metadata": {},
   "source": [
    "**Ejercicio 6, Clase número 5**"
   ]
  },
  {
   "cell_type": "code",
   "execution_count": 2,
   "id": "6854344d",
   "metadata": {},
   "outputs": [],
   "source": [
    "import sympy\n",
    "from sympy import *"
   ]
  },
  {
   "cell_type": "code",
   "execution_count": 3,
   "id": "3bfe1240",
   "metadata": {},
   "outputs": [
    {
     "data": {
      "text/latex": [
       "$\\displaystyle \\left\\{\\left[\\begin{matrix}1\\end{matrix}\\right], \\left[\\begin{matrix}t\\end{matrix}\\right], \\left[\\begin{matrix}t^{2} - \\frac{1}{4}\\end{matrix}\\right], \\left[\\begin{matrix}t^{3} - \\frac{t}{2}\\end{matrix}\\right], \\left[\\begin{matrix}t^{4} - \\frac{3 t^{2}}{4} + \\frac{1}{16}\\end{matrix}\\right], \\left[\\begin{matrix}t^{5} - t^{3} + \\frac{3 t}{16}\\end{matrix}\\right]\\right\\}$"
      ],
      "text/plain": [
       "{Matrix([[1]]), Matrix([[t]]), Matrix([[t**2 - 1/4]]), Matrix([[t**3 - t/2]]), Matrix([[t**4 - 3*t**2/4 + 1/16]]), Matrix([[t**5 - t**3 + 3*t/16]])}"
      ]
     },
     "execution_count": 3,
     "metadata": {},
     "output_type": "execute_result"
    }
   ],
   "source": [
    "#Veamos ahora como hacer Gram Schmidt con el conjunto de monomios LI\n",
    "\n",
    "#Definimos las variables o los límites de integración:\n",
    "\n",
    "t = symbols('t')\n",
    "a, b = -1, 1\n",
    "\n",
    "#Definimos las funciones base como vectores:\n",
    "\n",
    "base = [Matrix([1]), Matrix([t]), Matrix([t**2]), Matrix([t**3]), Matrix([t**4]), Matrix([t**5])]\n",
    "\n",
    "#Definimos el producto interno:\n",
    "\n",
    "def producto(f, g):\n",
    "    return integrate(f[0]*g[0]*sqrt(1-t**2), (t, a , b))\n",
    "\n",
    "#Ahora realicemos Gram-Schmidt:\n",
    "\n",
    "ortogonalizados = []\n",
    "for v in base:\n",
    "    u = v\n",
    "    for o in ortogonalizados:\n",
    "        u -= (producto(v, o) / producto(o, o)) * o\n",
    "    ortogonalizados.append(u)\n",
    "\n",
    "FiniteSet(*ortogonalizados)\n"
   ]
  }
 ],
 "metadata": {
  "kernelspec": {
   "display_name": "Python 3",
   "language": "python",
   "name": "python3"
  },
  "language_info": {
   "codemirror_mode": {
    "name": "ipython",
    "version": 3
   },
   "file_extension": ".py",
   "mimetype": "text/x-python",
   "name": "python",
   "nbconvert_exporter": "python",
   "pygments_lexer": "ipython3",
   "version": "3.13.6"
  }
 },
 "nbformat": 4,
 "nbformat_minor": 5
}
