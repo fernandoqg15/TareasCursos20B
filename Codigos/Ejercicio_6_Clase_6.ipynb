{
 "cells": [
  {
   "cell_type": "markdown",
   "id": "83532363",
   "metadata": {},
   "source": [
    "EJERCICIO 3, CLASE NÚMERO 6, SECCIÓN 2.45."
   ]
  },
  {
   "cell_type": "code",
   "execution_count": 39,
   "id": "949e0fad",
   "metadata": {},
   "outputs": [],
   "source": [
    "import sympy\n",
    "from scipy.integrate import quad\n",
    "from sympy import *\n",
    "import matplotlib.pyplot as plt"
   ]
  },
  {
   "cell_type": "markdown",
   "id": "47d277ba",
   "metadata": {},
   "source": [
    "(a): Si suponemos que este espacio vectorial está equipado con un producto interno definido por..."
   ]
  },
  {
   "cell_type": "code",
   "execution_count": 60,
   "id": "b571f9c5",
   "metadata": {},
   "outputs": [],
   "source": [
    "x = symbols('x')\n",
    "a, b = -1, 1"
   ]
  },
  {
   "cell_type": "code",
   "execution_count": 57,
   "id": "be4c4e07",
   "metadata": {},
   "outputs": [],
   "source": [
    "base = [x**i for i in range(10)]"
   ]
  },
  {
   "cell_type": "code",
   "execution_count": null,
   "id": "26972eb4",
   "metadata": {},
   "outputs": [
    {
     "ename": "TypeError",
     "evalue": "'<' not supported between instances of 'MutableDenseMatrix' and 'int'",
     "output_type": "error",
     "traceback": [
      "\u001b[31m---------------------------------------------------------------------------\u001b[39m",
      "\u001b[31mTypeError\u001b[39m                                 Traceback (most recent call last)",
      "\u001b[36mCell\u001b[39m\u001b[36m \u001b[39m\u001b[32mIn[56]\u001b[39m\u001b[32m, line 18\u001b[39m\n\u001b[32m     16\u001b[39m \u001b[38;5;28;01mfor\u001b[39;00m j, ej \u001b[38;5;129;01min\u001b[39;00m \u001b[38;5;28menumerate\u001b[39m(base):\n\u001b[32m     17\u001b[39m     \u001b[38;5;28;01mif\u001b[39;00m j > i: \n\u001b[32m---> \u001b[39m\u001b[32m18\u001b[39m         resultado = \u001b[43mproducto_interno\u001b[49m\u001b[43m(\u001b[49m\u001b[43mei\u001b[49m\u001b[43m,\u001b[49m\u001b[43m \u001b[49m\u001b[43mej\u001b[49m\u001b[43m)\u001b[49m\n\u001b[32m     19\u001b[39m         \u001b[38;5;28;01mif\u001b[39;00m resultado != \u001b[32m0\u001b[39m: \u001b[38;5;66;03m# Si el producto interno no es cero (!=0 significa diferente de cero)\u001b[39;00m\n\u001b[32m     20\u001b[39m             ortogonales = \u001b[38;5;28;01mFalse\u001b[39;00m \n",
      "\u001b[36mCell\u001b[39m\u001b[36m \u001b[39m\u001b[32mIn[56]\u001b[39m\u001b[32m, line 6\u001b[39m, in \u001b[36mproducto_interno\u001b[39m\u001b[34m(f, g)\u001b[39m\n\u001b[32m      4\u001b[39m h = simplify(f*g)\n\u001b[32m      5\u001b[39m f_num = lambdify(x, h, \u001b[33m'\u001b[39m\u001b[33mnumpy\u001b[39m\u001b[33m'\u001b[39m) \u001b[38;5;66;03m# Convertir la función simbólica en una función numérica\u001b[39;00m\n\u001b[32m----> \u001b[39m\u001b[32m6\u001b[39m resultado, error = \u001b[43mquad\u001b[49m\u001b[43m(\u001b[49m\u001b[43mf_num\u001b[49m\u001b[43m,\u001b[49m\u001b[43m \u001b[49m\u001b[43ma\u001b[49m\u001b[43m \u001b[49m\u001b[43m,\u001b[49m\u001b[43m \u001b[49m\u001b[43mb\u001b[49m\u001b[43m)\u001b[49m\n\u001b[32m      7\u001b[39m \u001b[38;5;28;01mreturn\u001b[39;00m resultado\n",
      "\u001b[36mFile \u001b[39m\u001b[32mc:\\Users\\USUARIO\\AppData\\Local\\Programs\\Python\\Python313\\Lib\\site-packages\\scipy\\integrate\\_quadpack_py.py:433\u001b[39m, in \u001b[36mquad\u001b[39m\u001b[34m(func, a, b, args, full_output, epsabs, epsrel, limit, points, weight, wvar, wopts, maxp1, limlst, complex_func)\u001b[39m\n\u001b[32m    430\u001b[39m     args = (args,)\n\u001b[32m    432\u001b[39m \u001b[38;5;66;03m# check the limits of integration: \\int_a^b, expect a < b\u001b[39;00m\n\u001b[32m--> \u001b[39m\u001b[32m433\u001b[39m flip, a, b = \u001b[43mb\u001b[49m\u001b[43m \u001b[49m\u001b[43m<\u001b[49m\u001b[43m \u001b[49m\u001b[43ma\u001b[49m, \u001b[38;5;28mmin\u001b[39m(a, b), \u001b[38;5;28mmax\u001b[39m(a, b)\n\u001b[32m    435\u001b[39m \u001b[38;5;28;01mif\u001b[39;00m complex_func:\n\u001b[32m    436\u001b[39m     \u001b[38;5;28;01mdef\u001b[39;00m\u001b[38;5;250m \u001b[39m\u001b[34mimfunc\u001b[39m(x, *args):\n",
      "\u001b[31mTypeError\u001b[39m: '<' not supported between instances of 'MutableDenseMatrix' and 'int'"
     ]
    }
   ],
   "source": [
    "#Definiendo el producto interno con SciPy\n",
    "\n",
    "def producto_interno(f, g):\n",
    "    h = simplify(f*g)\n",
    "    f_num = lambdify(x, h, 'numpy') # Convertir la función simbólica en una función numérica\n",
    "    resultado, error = quad(f_num, a , b)\n",
    "    return resultado\n",
    "\n",
    "#Determinación ortogonal o no\n",
    "\n",
    "ortogonales = True #Asumimos que son ortogonales\n",
    "for i, ei in enumerate(base):\n",
    "    for j, ej in enumerate(base):\n",
    "        if j > i: \n",
    "            resultado = producto_interno(ei, ej)\n",
    "            if resultado != 0: # Si el producto interno no es cero (!=0 significa diferente de cero)\n",
    "                ortogonales = False \n",
    "if ortogonales:\n",
    "    print(\"La base es ortogonal\")\n",
    "else:\n",
    "    print(\"La base es oblicua\")\n"
   ]
  },
  {
   "cell_type": "markdown",
   "id": "cb6e570c",
   "metadata": {},
   "source": [
    "(b): Utilizando la definición de producto interno"
   ]
  },
  {
   "cell_type": "code",
   "execution_count": 42,
   "id": "0ba42db7",
   "metadata": {},
   "outputs": [
    {
     "data": {
      "text/latex": [
       "$\\displaystyle \\left\\{1, x, x^{2} - 0.333333333333333, x^{3} - 0.6 x, x^{4} - 0.857142857142857 x^{2} + 0.0857142857142857, x^{5} - 1.11111111111111 x^{3} + 0.238095238095238 x, x^{6} - 1.36363636363636 x^{4} + 0.454545454545455 x^{2} - 0.0216450216450216, x^{7} - 1.61538461538462 x^{5} + 0.734265734265734 x^{3} - 0.0815850815850817 x, x^{8} - 1.86666666666667 x^{6} + 1.07692307692308 x^{4} - 0.195804195804196 x^{2} + 0.00543900543900531, x^{9} - 2.11764705882353 x^{7} + 1.48235294117647 x^{5} - 0.380090497737555 x^{3} + 0.0259152612093788 x\\right\\}$"
      ],
      "text/plain": [
       "{1, x, x**2 - 0.333333333333333, x**3 - 0.6*x, x**4 - 0.857142857142857*x**2 + 0.0857142857142857, x**5 - 1.11111111111111*x**3 + 0.238095238095238*x, x**6 - 1.36363636363636*x**4 + 0.454545454545455*x**2 - 0.0216450216450216, x**7 - 1.61538461538462*x**5 + 0.734265734265734*x**3 - 0.0815850815850817*x, x**8 - 1.86666666666667*x**6 + 1.07692307692308*x**4 - 0.195804195804196*x**2 + 0.00543900543900531, x**9 - 2.11764705882353*x**7 + 1.48235294117647*x**5 - 0.380090497737555*x**3 + 0.0259152612093788*x}"
      ]
     },
     "execution_count": 42,
     "metadata": {},
     "output_type": "execute_result"
    }
   ],
   "source": [
    "\n",
    "polinomios_Legendre = []\n",
    "\n",
    "for v in base:\n",
    "    u = v #Hace un tipo de copia\n",
    "    for o in polinomios_Legendre:\n",
    "        u -= (producto_interno(u, o) / producto_interno(o, o)) * o\n",
    "    polinomios_Legendre.append(u)\n",
    "\n",
    "FiniteSet(*polinomios_Legendre)"
   ]
  },
  {
   "cell_type": "markdown",
   "id": "9d2330ee",
   "metadata": {},
   "source": [
    "(c): Base de polinomios ortogonales, Chebyshev"
   ]
  },
  {
   "cell_type": "code",
   "execution_count": 43,
   "id": "bf556b79",
   "metadata": {},
   "outputs": [
    {
     "data": {
      "text/latex": [
       "$\\displaystyle \\left\\{1, x, x^{2} - 0.24999999999994, x^{3} - 0.500000000000116 x, x^{4} - 0.750000000003207 x^{2} + 0.0625000000007578, x^{5} - 0.999999999965636 x^{3} + 0.187499999982873 x, x^{6} - 1.24999999987702 x^{4} + 0.374999999909466 x^{2} - 0.0156249999927138, x^{7} - 1.49999999962046 x^{5} + 0.624999999543233 x^{3} - 0.0624999998902184 x, x^{8} - 1.74999999893033 x^{6} + 0.937499998755921 x^{4} - 0.156249999669229 x^{2} + 0.00390624998924345, x^{9} - 1.99999999712081 x^{7} + 1.31249999594035 x^{5} - 0.312499998384414 x^{3} + 0.019531249831048 x\\right\\}$"
      ],
      "text/plain": [
       "{1, x, x**2 - 0.24999999999994, x**3 - 0.500000000000116*x, x**4 - 0.750000000003207*x**2 + 0.0625000000007578, x**5 - 0.999999999965636*x**3 + 0.187499999982873*x, x**6 - 1.24999999987702*x**4 + 0.374999999909466*x**2 - 0.0156249999927138, x**7 - 1.49999999962046*x**5 + 0.624999999543233*x**3 - 0.0624999998902184*x, x**8 - 1.74999999893033*x**6 + 0.937499998755921*x**4 - 0.156249999669229*x**2 + 0.00390624998924345, x**9 - 1.99999999712081*x**7 + 1.31249999594035*x**5 - 0.312499998384414*x**3 + 0.019531249831048*x}"
      ]
     },
     "execution_count": 43,
     "metadata": {},
     "output_type": "execute_result"
    }
   ],
   "source": [
    "def producto_interno_2 (f, g):\n",
    "\n",
    "    h = simplify(f*g*sqrt(1-x**2))\n",
    "    f_num2 = lambdify(x, h, 'numpy')\n",
    "    resultado, error = quad(f_num2, a , b)\n",
    "    return resultado\n",
    "9\n",
    "polinomios_Chebyshev = []\n",
    "\n",
    "for v in base:\n",
    "    w = v\n",
    "    for o in polinomios_Chebyshev:\n",
    "        w -= (producto_interno_2(w, o) / producto_interno_2(o, o)) * o\n",
    "    polinomios_Chebyshev.append(w)\n",
    "\n",
    "FiniteSet(*polinomios_Chebyshev)"
   ]
  },
  {
   "cell_type": "markdown",
   "id": "259638d4",
   "metadata": {},
   "source": [
    "(d) Suponga la función h(x)..."
   ]
  },
  {
   "cell_type": "code",
   "execution_count": 62,
   "id": "7ab8dc60",
   "metadata": {},
   "outputs": [],
   "source": [
    "#Expandiremos la función en distintas bases:\n",
    "\n",
    "f = sin(3*x)*(1-x**2)\n",
    "f_num = lambdify(x, f, \"numpy\")\n",
    "\n",
    "def expansion_monomios(f, base):\n",
    "    m = len(base)\n",
    "    #Matriz de Gram\n",
    "    G = Matrix([[producto_interno(alpha, Beta) for alpha in base] for Beta in base])\n",
    "    \n",
    "    #Vector b\n",
    "\n",
    "    b = Matrix([producto_interno(f, base[i]) for i in range(10)])\n",
    "\n",
    "    C = G.LUsolve(b)\n",
    "\n",
    "    f_aprox = sum(C[j]*base[j] for j in range (m))\n",
    "\n",
    "    return C, simplify(f_aprox)\n",
    "\n",
    "#Ahora en las ortogonales:\n",
    "    \n",
    "    #Legendre\n",
    "\n",
    "def expansion_Legendre(f, polinomios_Legendre):\n",
    "    coeficientes = []\n",
    "    for e in polinomios_Legendre:\n",
    "        c = producto_interno (f, e) / producto_interno (e, e)\n",
    "        coeficientes.append(c)\n",
    "    \n",
    "    f_aprox = sum(coeficientes[j]*polinomios_Legendre[j] for j in range (10))\n",
    "    return coeficientes, f_aprox\n",
    "\n",
    "    #Chebyshev\n",
    "\n",
    "def expansion_Chebyshev(f, polinomios_Chebyshev):\n",
    "    coeficientes = []\n",
    "    for w in polinomios_Chebyshev:\n",
    "        C = producto_interno_2 (f, w) / producto_interno_2 (w, w)\n",
    "        coeficientes.append(C)\n",
    "\n",
    "    f_aprox = (C[j]*polinomios_Chebyshev[j] for j in range(10))\n",
    "    return coeficientes, f_aprox\n",
    "\n",
    "# Expansiones\n",
    "\n",
    "C_mono, f_mono = expansion_monomios (f, base)\n",
    "C_leg, f_leg = expansion_Legendre (f, polinomios_Legendre)\n",
    "C_cheb, f_cheb = expansion_Chebyshev (f, polinomios_Chebyshev)\n",
    "\n",
    "\n",
    "    \n",
    "\n"
   ]
  },
  {
   "cell_type": "code",
   "execution_count": null,
   "id": "91e58157",
   "metadata": {},
   "outputs": [],
   "source": []
  }
 ],
 "metadata": {
  "kernelspec": {
   "display_name": "Python 3",
   "language": "python",
   "name": "python3"
  },
  "language_info": {
   "codemirror_mode": {
    "name": "ipython",
    "version": 3
   },
   "file_extension": ".py",
   "mimetype": "text/x-python",
   "name": "python",
   "nbconvert_exporter": "python",
   "pygments_lexer": "ipython3",
   "version": "3.13.6"
  }
 },
 "nbformat": 4,
 "nbformat_minor": 5
}
